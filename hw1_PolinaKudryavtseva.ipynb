{
 "cells": [
  {
   "cell_type": "markdown",
   "metadata": {},
   "source": [
    "## Домашняя работа №1\n",
    "### Кудрявцевой Полины, БКЛ182"
   ]
  },
  {
   "cell_type": "markdown",
   "metadata": {},
   "source": [
    "* Здесь добавляются библиотеки и подключается модуль проверки PEP:"
   ]
  },
  {
   "cell_type": "code",
   "execution_count": 1,
   "metadata": {},
   "outputs": [
    {
     "name": "stdout",
     "output_type": "stream",
     "text": [
      "Requirement already satisfied: pycodestyle in /anaconda3/lib/python3.7/site-packages (2.5.0)\n",
      "Requirement already satisfied: flake8 in /anaconda3/lib/python3.7/site-packages (3.7.8)\n",
      "Requirement already satisfied: pycodestyle_magic in /anaconda3/lib/python3.7/site-packages (0.4)\n",
      "Requirement already satisfied: pyflakes<2.2.0,>=2.1.0 in /anaconda3/lib/python3.7/site-packages (from flake8) (2.1.1)\n",
      "Requirement already satisfied: mccabe<0.7.0,>=0.6.0 in /anaconda3/lib/python3.7/site-packages (from flake8) (0.6.1)\n",
      "Requirement already satisfied: entrypoints<0.4.0,>=0.3.0 in /anaconda3/lib/python3.7/site-packages (from flake8) (0.3)\n"
     ]
    }
   ],
   "source": [
    "import json\n",
    "import re\n",
    "from collections import Counter\n",
    "\n",
    "! pip3 install pycodestyle flake8 pycodestyle_magic\n",
    "%load_ext pycodestyle_magic\n",
    "%pycodestyle_on"
   ]
  },
  {
   "cell_type": "markdown",
   "metadata": {},
   "source": [
    "### 1) Сколько твитов в наборе?"
   ]
  },
  {
   "cell_type": "code",
   "execution_count": 2,
   "metadata": {},
   "outputs": [],
   "source": [
    "twitter = []\n",
    "for line in open('hw_3_twitter.json'):\n",
    "    twitter.append(json.loads(line))\n",
    "\n",
    "all_tweets = len(twitter)"
   ]
  },
  {
   "cell_type": "code",
   "execution_count": 3,
   "metadata": {},
   "outputs": [
    {
     "name": "stdout",
     "output_type": "stream",
     "text": [
      "В наборе 2556 твитов.\n"
     ]
    }
   ],
   "source": [
    "print('В наборе', all_tweets, 'твитов.')"
   ]
  },
  {
   "cell_type": "markdown",
   "metadata": {},
   "source": [
    "### 2) Какой процент твитов составляют удаленные записи?\n",
    "* Тэг удаленных твитов - 'delete'.\n",
    "* Используется метод словарей get, который возвращает значение словаря по заданному ключу.\n",
    "* Добавляется счетчик удаленных твитов."
   ]
  },
  {
   "cell_type": "code",
   "execution_count": 4,
   "metadata": {},
   "outputs": [],
   "source": [
    "deleted_tweets = 0\n",
    "\n",
    "for tweet in twitter:\n",
    "    if tweet.get(\"delete\") is not None:\n",
    "        deleted_tweets += 1\n",
    "\n",
    "percent_of_deleted = deleted_tweets * 100 / all_tweets"
   ]
  },
  {
   "cell_type": "code",
   "execution_count": 5,
   "metadata": {},
   "outputs": [
    {
     "name": "stdout",
     "output_type": "stream",
     "text": [
      "Удаленные записи составляют 14.162754303599375 %.\n",
      "То есть примерно 14 %.\n"
     ]
    }
   ],
   "source": [
    "print('Удаленные записи составляют', percent_of_deleted, '%.')\n",
    "print('То есть примерно', round(percent_of_deleted), '%.')"
   ]
  },
  {
   "cell_type": "markdown",
   "metadata": {},
   "source": [
    "### 3) Какие самые популярные языки твитов?\n",
    "* Тэг языка твитов - 'lang'."
   ]
  },
  {
   "cell_type": "code",
   "execution_count": 6,
   "metadata": {},
   "outputs": [],
   "source": [
    "languages = []\n",
    "\n",
    "for tweet in twitter:\n",
    "    if tweet.get('lang') is not None:\n",
    "        languages.append(tweet.get('lang'))\n",
    "\n",
    "counter_of_languages = Counter(languages)\n",
    "ten_top_languages = counter_of_languages.most_common(10)"
   ]
  },
  {
   "cell_type": "code",
   "execution_count": 7,
   "metadata": {},
   "outputs": [
    {
     "name": "stdout",
     "output_type": "stream",
     "text": [
      "10 самых популярных языков твитов:\n",
      "en\n",
      "ja\n",
      "es\n",
      "ko\n",
      "th\n",
      "ar\n",
      "und\n",
      "in\n",
      "pt\n",
      "fr\n"
     ]
    }
   ],
   "source": [
    "print('10 самых популярных языков твитов:')\n",
    "for language in ten_top_languages:\n",
    "    the_language = language[0]\n",
    "    print(the_language)"
   ]
  },
  {
   "cell_type": "markdown",
   "metadata": {},
   "source": [
    "### 4) Есть ли твиты от одного и того же пользователя? Если да, то сколько таких пользователей?\n",
    "* В документации о json в Twitter сказано, что в качестве уникального имени пользователя лучше использовать \"id_str\".\n",
    "* В списке ids собраны все id с повторениями.\n",
    "* В словаре repeating_authors записаны все id, которые повторились."
   ]
  },
  {
   "cell_type": "code",
   "execution_count": 8,
   "metadata": {},
   "outputs": [],
   "source": [
    "ids = []\n",
    "repeating_authors = {}\n",
    "\n",
    "for tweet in twitter:\n",
    "    if tweet.get('user') is not None:\n",
    "        id_str = tweet['user'].get('id_str')\n",
    "        ids.append(id_str)\n",
    "\n",
    "counter_of_id = Counter(ids)\n",
    "for key, value in counter_of_id.items():\n",
    "    if value > 1:\n",
    "        repeating_authors[key] = value\n",
    "\n",
    "authors = len(repeating_authors)"
   ]
  },
  {
   "cell_type": "code",
   "execution_count": 9,
   "metadata": {},
   "outputs": [
    {
     "name": "stdout",
     "output_type": "stream",
     "text": [
      "Пользователей, которые твитили больше одного раза, -  25 .\n"
     ]
    }
   ],
   "source": [
    "print('Пользователей, которые твитили больше одного раза, - ', authors, '.')"
   ]
  },
  {
   "cell_type": "markdown",
   "metadata": {},
   "source": [
    "### 5) Топ-20 хэштегов\n",
    "* Хэштеги собраны под тэгом 'entities' --> 'hashtags' --> 'text'.\n",
    "* Некоторые ключи 'hashtags' = []. Их нужно исключить."
   ]
  },
  {
   "cell_type": "code",
   "execution_count": 10,
   "metadata": {},
   "outputs": [],
   "source": [
    "tags = []\n",
    "\n",
    "for tweet in twitter:\n",
    "    if tweet.get('entities') is not None:\n",
    "        hashtags_in_one_tweet = tweet['entities'].get('hashtags')\n",
    "        if hashtags_in_one_tweet is not None and hashtags_in_one_tweet != []:\n",
    "            for hashtags in hashtags_in_one_tweet:\n",
    "                if hashtags.get('text') is not None:\n",
    "                    tag = hashtags.get('text')\n",
    "                    tags.append(tag)\n",
    "counter_of_tags = Counter(tags)\n",
    "top_tags = counter_of_tags.most_common(20)"
   ]
  },
  {
   "cell_type": "code",
   "execution_count": 11,
   "metadata": {},
   "outputs": [
    {
     "name": "stdout",
     "output_type": "stream",
     "text": [
      "Топ-20 хэштегов:\n",
      "BTS\n",
      "방탄소년단\n",
      "AMAs\n",
      "人気投票ガチャ\n",
      "태형\n",
      "뷔\n",
      "BTSinChicago\n",
      "BTSLoveYourselfTour\n",
      "오늘의방탄\n",
      "PledgeForSwachhBharat\n",
      "MPN\n",
      "PCAs\n",
      "V\n",
      "시카고1회차공연\n",
      "เป๊กผลิตโชค\n",
      "JIMIN\n",
      "running\n",
      "NCT\n",
      "지민\n",
      "WajahmuPlastik\n"
     ]
    }
   ],
   "source": [
    "print('Топ-20 хэштегов:')\n",
    "for tag in top_tags:\n",
    "    the_tag = tag[0]\n",
    "    print(the_tag)"
   ]
  },
  {
   "cell_type": "markdown",
   "metadata": {},
   "source": [
    "### 6) Предобработать тексты оригинальных твитов (не ретвитов) на английском языке (убрать пунктуацию, привести к нижнему регистру) и составить частотный словарь\n",
    "* Тэг текста твита - 'text'.\n",
    "* Все лишние знаки убираются с помощью strip.\n",
    "* Текст приводится к нижнему регистру с помощью lower."
   ]
  },
  {
   "cell_type": "code",
   "execution_count": 12,
   "metadata": {},
   "outputs": [
    {
     "name": "stdout",
     "output_type": "stream",
     "text": [
      "40 самых частотных слов в твитах на английском языке:\n",
      "the\n",
      "to\n",
      "a\n",
      "i\n",
      "and\n",
      "is\n",
      "you\n",
      "of\n",
      "for\n",
      "it\n",
      "in\n",
      "that\n",
      "this\n",
      "my\n",
      "me\n",
      "be\n",
      "on\n",
      "are\n",
      "what\n",
      "so\n",
      "with\n",
      "have\n",
      "your\n",
      "not\n",
      "more\n",
      "but\n",
      "at\n",
      "get\n",
      "about\n",
      "like\n",
      "just\n",
      "we\n",
      "all\n",
      "now\n",
      "was\n",
      "he\n",
      "up\n",
      "they\n",
      "if\n",
      "only\n"
     ]
    }
   ],
   "source": [
    "need_to_clean = '!\"#$%&\\'-()*+,./:;<=>?@[\\\\]^_`{|}~«»—1234567890…'\n",
    "words = []\n",
    "for tweet in twitter:\n",
    "    if 'retweeted_status' not in tweet:\n",
    "        if tweet.get('lang') == 'en':\n",
    "            text = tweet.get('text').lower().split()\n",
    "            for word in text:\n",
    "                cleaned_text = word.strip(need_to_clean)\n",
    "                if cleaned_text != '':\n",
    "                    words.append(cleaned_text)\n",
    "counter_of_words = Counter(words).most_common(40)\n",
    "print('40 самых частотных слов в твитах на английском языке:')\n",
    "for word in counter_of_words:\n",
    "    one_word = word[0]\n",
    "    print(one_word)"
   ]
  },
  {
   "cell_type": "markdown",
   "metadata": {},
   "source": [
    "### 7) Найти количество подписчиков (фолловеров) у авторов твитов и вывести топ-10.\n",
    "* Тэг пользователя - 'user'.\n",
    "* Тэг количества подписчиков - 'followers_count'.\n",
    "* В словаре auth_foll ключи - авторы, а значения - количество их подписчиков."
   ]
  },
  {
   "cell_type": "code",
   "execution_count": 13,
   "metadata": {},
   "outputs": [],
   "source": [
    "auth_foll = {}\n",
    "\n",
    "for tweet in twitter:\n",
    "    if tweet.get('user') is not None:\n",
    "        name = tweet['user'].get('name')\n",
    "        if tweet['user'].get('followers_count') is not None:\n",
    "            auth_foll[name] = tweet['user'].get('followers_count')\n",
    "\n",
    "counter_of_authors = Counter(auth_foll)\n",
    "top_authorth = counter_of_authors.most_common(10)"
   ]
  },
  {
   "cell_type": "code",
   "execution_count": 14,
   "metadata": {},
   "outputs": [
    {
     "name": "stdout",
     "output_type": "stream",
     "text": [
      "Топ-10 авторов и количество их подписчиков:\n",
      "Filosofía♕\t2521403\n",
      "FITNESS Magazine\t1491309\n",
      "malaysiakini.com\t1206759\n",
      "NYT Science\t1137374\n",
      "Gramática\t625463\n",
      "TGRT Haber\t392472\n",
      "The Sun Football ⚽\t383698\n",
      "Melbourne, Australia\t374222\n",
      "Roznama Express\t318189\n",
      "💞 ცųཞɠɛཞცơơɠıɛ 💞\t311319\n"
     ]
    }
   ],
   "source": [
    "print('Топ-10 авторов и количество их подписчиков:')\n",
    "for auth_and_foll in top_authorth:\n",
    "    author = auth_and_foll[0]\n",
    "    followers = auth_and_foll[1]\n",
    "    print(author + \"\\t\" + str(followers))"
   ]
  },
  {
   "cell_type": "markdown",
   "metadata": {},
   "source": [
    "### 8) Топ-10 источников твита (из какого приложения написан)\n",
    "* Тэг источника твита - 'source'.\n",
    "* Внутри тэга находится ссылка, в которой есть название самого источника. Название ищется с помощью регулярных выражений."
   ]
  },
  {
   "cell_type": "code",
   "execution_count": 15,
   "metadata": {},
   "outputs": [],
   "source": [
    "sources = []\n",
    "\n",
    "for tweet in twitter:\n",
    "    if tweet.get('source') is not None:\n",
    "        source = tweet.get('source')\n",
    "        searchfor = r'\\u003ca href=\\\".*?\\\" rel=\\\"nofollow\\\"\\u003e(.*?)\\u003c'\n",
    "        clean_source = re.search(searchfor, source)\n",
    "        if clean_source is not None:\n",
    "            sources.append(clean_source.group(1))\n",
    "\n",
    "counter_of_sources = Counter(sources)\n",
    "top_sources = counter_of_sources.most_common(10)"
   ]
  },
  {
   "cell_type": "code",
   "execution_count": 16,
   "metadata": {},
   "outputs": [
    {
     "name": "stdout",
     "output_type": "stream",
     "text": [
      "Топ-10 источников твита:\n",
      "Twitter for iPhone\n",
      "Twitter for Android\n",
      "Twitter Web Client\n",
      "twittbot.net\n",
      "Twitter Lite\n",
      "Twitter for iPad\n",
      "TweetDeck\n",
      "Facebook\n",
      "IFTTT\n",
      "تطبيق قرآني\n"
     ]
    }
   ],
   "source": [
    "print('Топ-10 источников твита:')\n",
    "\n",
    "for source in top_sources:\n",
    "    the_source = source[0]\n",
    "    print(the_source)"
   ]
  },
  {
   "cell_type": "markdown",
   "metadata": {},
   "source": [
    "При выполнении задания советовались с Александрой Морозовой, Милославой Ореховой, Дмитрием Синициным, Светланой Кокоревой (БКЛ181)."
   ]
  }
 ],
 "metadata": {
  "kernelspec": {
   "display_name": "Python 3",
   "language": "python",
   "name": "python3"
  },
  "language_info": {
   "codemirror_mode": {
    "name": "ipython",
    "version": 3
   },
   "file_extension": ".py",
   "mimetype": "text/x-python",
   "name": "python",
   "nbconvert_exporter": "python",
   "pygments_lexer": "ipython3",
   "version": "3.7.3"
  }
 },
 "nbformat": 4,
 "nbformat_minor": 2
}
